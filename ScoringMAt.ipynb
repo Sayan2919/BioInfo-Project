{
 "cells": [
  {
   "cell_type": "code",
   "execution_count": 92,
   "metadata": {},
   "outputs": [],
   "source": [
    "def prtmat(mat1):\n",
    "    for i in mat1:\n",
    "        for j in i:\n",
    "            print(str(j)+\"\\t\",end=' ')\n",
    "        #end j\n",
    "        print()\n",
    "    #end i"
   ]
  },
  {
   "cell_type": "code",
   "execution_count": 93,
   "metadata": {},
   "outputs": [],
   "source": [
    "def mirror(mat):\n",
    "    for i in range(int(l2/2)):\n",
    "        MAT[i],MAT[l2-i-1] = MAT[l2-i-1],MAT[i]\n",
    "    #end for\n",
    "    prtmat(mat)"
   ]
  },
  {
   "cell_type": "code",
   "execution_count": 94,
   "metadata": {},
   "outputs": [
    {
     "name": "stdout",
     "output_type": "stream",
     "text": [
      "Enter sequence 1: attgcca\n",
      "Enter sequence 2: agtgcct\n",
      "8\n"
     ]
    }
   ],
   "source": [
    "seq1 = list(input(\"Enter sequence 1: \"))\n",
    "seq2 = list(input(\"Enter sequence 2: \"))\n",
    "l1 = len(seq1) + 1\n",
    "l2 = len(seq2) + 1\n",
    "print(l1)"
   ]
  },
  {
   "cell_type": "code",
   "execution_count": 95,
   "metadata": {},
   "outputs": [
    {
     "name": "stdout",
     "output_type": "stream",
     "text": [
      "0\t 0\t 0\t 0\t 0\t 0\t 0\t 0\t \n",
      "0\t 0\t 0\t 0\t 0\t 0\t 0\t 0\t \n",
      "0\t 0\t 0\t 0\t 0\t 0\t 0\t 0\t \n",
      "0\t 0\t 0\t 0\t 0\t 0\t 0\t 0\t \n",
      "0\t 0\t 0\t 0\t 0\t 0\t 0\t 0\t \n",
      "0\t 0\t 0\t 0\t 0\t 0\t 0\t 0\t \n",
      "0\t 0\t 0\t 0\t 0\t 0\t 0\t 0\t \n",
      "0\t 0\t 0\t 0\t 0\t 0\t 0\t 0\t \n"
     ]
    }
   ],
   "source": [
    "MAT = [[0 for i in range(l1)] for j in range(l2)]\n",
    "prtmat(MAT)"
   ]
  },
  {
   "cell_type": "code",
   "execution_count": 96,
   "metadata": {},
   "outputs": [
    {
     "name": "stdout",
     "output_type": "stream",
     "text": [
      "0\t -2\t -4\t -6\t -8\t -10\t -12\t -14\t \n",
      "-2\t 0\t 0\t 0\t 0\t 0\t 0\t 0\t \n",
      "-4\t 0\t 0\t 0\t 0\t 0\t 0\t 0\t \n",
      "-6\t 0\t 0\t 0\t 0\t 0\t 0\t 0\t \n",
      "-8\t 0\t 0\t 0\t 0\t 0\t 0\t 0\t \n",
      "-10\t 0\t 0\t 0\t 0\t 0\t 0\t 0\t \n",
      "-12\t 0\t 0\t 0\t 0\t 0\t 0\t 0\t \n",
      "-14\t 0\t 0\t 0\t 0\t 0\t 0\t 0\t \n"
     ]
    }
   ],
   "source": [
    "for i in range(1,l1):\n",
    "    MAT[0][i] = MAT[0][i-1] - 2\n",
    "#end for\n",
    "for i in range(1,l2):\n",
    "    MAT[i][0] = MAT[i-1][0] - 2\n",
    "#end for\n",
    "prtmat(MAT)"
   ]
  },
  {
   "cell_type": "code",
   "execution_count": 97,
   "metadata": {},
   "outputs": [
    {
     "name": "stdout",
     "output_type": "stream",
     "text": [
      "-14\t -11\t -8\t -5\t -4\t -1\t 2\t 3\t \n",
      "-12\t -9\t -6\t -5\t -2\t 1\t 4\t 2\t \n",
      "-10\t -7\t -4\t -3\t 0\t 3\t 1\t -1\t \n",
      "-8\t -5\t -2\t -1\t 2\t 0\t -2\t -4\t \n",
      "-6\t -3\t 0\t 1\t -1\t -3\t -5\t -7\t \n",
      "-4\t -1\t 0\t -2\t -2\t -4\t -6\t -8\t \n",
      "-2\t 1\t -1\t -3\t -5\t -7\t -9\t -11\t \n",
      "0\t -2\t -4\t -6\t -8\t -10\t -12\t -14\t \n"
     ]
    }
   ],
   "source": [
    "for i in range(1,l2):\n",
    "    for j in range(1,l1):\n",
    "        MAT[i][j] = max(MAT[i][j-1],MAT[i-1][j]) - 2\n",
    "        if(seq1[j-1] == seq2[i-1]):\n",
    "            MAT[i][j] = max(MAT[i][j],MAT[i-1][j-1] + 1)\n",
    "        else:\n",
    "            MAT[i][j] = max(MAT[i][j],MAT[i-1][j-1] - 1)\n",
    "        #end if\n",
    "    #end for\n",
    "#end for\n",
    "mirror(MAT)\n",
    "#prtmat(MAT)"
   ]
  },
  {
   "cell_type": "code",
   "execution_count": null,
   "metadata": {},
   "outputs": [],
   "source": []
  },
  {
   "cell_type": "code",
   "execution_count": null,
   "metadata": {},
   "outputs": [],
   "source": []
  },
  {
   "cell_type": "code",
   "execution_count": null,
   "metadata": {},
   "outputs": [],
   "source": []
  }
 ],
 "metadata": {
  "kernelspec": {
   "display_name": "Python 3",
   "language": "python",
   "name": "python3"
  },
  "language_info": {
   "codemirror_mode": {
    "name": "ipython",
    "version": 3
   },
   "file_extension": ".py",
   "mimetype": "text/x-python",
   "name": "python",
   "nbconvert_exporter": "python",
   "pygments_lexer": "ipython3",
   "version": "3.6.5"
  }
 },
 "nbformat": 4,
 "nbformat_minor": 2
}
